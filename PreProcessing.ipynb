{
 "cells": [
  {
   "cell_type": "code",
   "execution_count": 2,
   "metadata": {},
   "outputs": [
    {
     "name": "stdout",
     "output_type": "stream",
     "text": [
      "Collecting pandas\n",
      "  Downloading pandas-1.1.3-cp38-cp38-macosx_10_9_x86_64.whl (10.1 MB)\n",
      "\u001B[K     |████████████████████████████████| 10.1 MB 354 kB/s eta 0:00:01\n",
      "\u001B[?25hCollecting numpy>=1.15.4\n",
      "  Downloading numpy-1.19.2-cp38-cp38-macosx_10_9_x86_64.whl (15.3 MB)\n",
      "\u001B[K     |████████████████████████████████| 15.3 MB 4.5 MB/s eta 0:00:01\n",
      "\u001B[?25hRequirement already satisfied: python-dateutil>=2.7.3 in ./env/lib/python3.8/site-packages (from pandas) (2.8.1)\n",
      "Collecting pytz>=2017.2\n",
      "  Using cached pytz-2020.1-py2.py3-none-any.whl (510 kB)\n",
      "Requirement already satisfied: six>=1.5 in ./env/lib/python3.8/site-packages (from python-dateutil>=2.7.3->pandas) (1.15.0)\n",
      "Installing collected packages: numpy, pytz, pandas\n",
      "Successfully installed numpy-1.19.2 pandas-1.1.3 pytz-2020.1\n"
     ]
    }
   ],
   "source": [
    "!pip install pandas"
   ]
  },
  {
   "cell_type": "code",
   "execution_count": 1,
   "metadata": {},
   "outputs": [],
   "source": [
    "import pandas as pd\n",
    "import json\n",
    "import re\n",
    "import pytz"
   ]
  },
  {
   "cell_type": "code",
   "execution_count": 3,
   "metadata": {},
   "outputs": [
    {
     "ename": "SyntaxError",
     "evalue": "unexpected character after line continuation character (<ipython-input-3-b2b525ccee4f>, line 1)",
     "output_type": "error",
     "traceback": [
      "\u001B[0;36m  File \u001B[0;32m\"<ipython-input-3-b2b525ccee4f>\"\u001B[0;36m, line \u001B[0;32m1\u001B[0m\n\u001B[0;31m    with open(f'/Users/aravind/Library/Mobile Documents/com~apple~CloudDocs/Documents/IO/{re.compile('[0-9\\-]+(-I-O)}')}','rb') as f:\u001B[0m\n\u001B[0m                                                                                                                                     ^\u001B[0m\n\u001B[0;31mSyntaxError\u001B[0m\u001B[0;31m:\u001B[0m unexpected character after line continuation character\n"
     ]
    }
   ],
   "source": [
    "with open(f'/Users/aravind/Library/Mobile Documents/com~apple~CloudDocs/Documents/IO/{re.compile('[0-9\\-]+(-I-O)}')}','rb') as f:\n",
    "          journal = json.load(f)"
   ]
  },
  {
   "cell_type": "code",
   "execution_count": 4,
   "metadata": {},
   "outputs": [],
   "source": [
    "with open('/Users/aravind/Library/Mobile Documents/com~apple~CloudDocs/Documents/IO/2020-9-30-I-O.json') as f:\n",
    "          journal = json.load(f)"
   ]
  },
  {
   "cell_type": "code",
   "execution_count": null,
   "metadata": {},
   "outputs": [],
   "source": []
  },
  {
   "cell_type": "code",
   "execution_count": 5,
   "metadata": {},
   "outputs": [
    {
     "name": "stdout",
     "output_type": "stream",
     "text": [
      "<class 'pandas.core.frame.DataFrame'>\n",
      "RangeIndex: 23 entries, 0 to 22\n",
      "Data columns (total 4 columns):\n",
      " #   Column        Non-Null Count  Dtype \n",
      "---  ------        --------------  ----- \n",
      " 0   location      23 non-null     object\n",
      " 1   creationDate  23 non-null     object\n",
      " 2   timeZone      23 non-null     object\n",
      " 3   text          23 non-null     object\n",
      "dtypes: object(4)\n",
      "memory usage: 864.0+ bytes\n"
     ]
    }
   ],
   "source": [
    "df = pd.DataFrame(journal['entries'],columns = ['location','creationDate','timeZone','text'])\n",
    "df.info()"
   ]
  },
  {
   "cell_type": "code",
   "execution_count": 6,
   "metadata": {},
   "outputs": [
    {
     "data": {
      "text/plain": [
       "'America/New_York'"
      ]
     },
     "execution_count": 6,
     "metadata": {},
     "output_type": "execute_result"
    }
   ],
   "source": [
    "df.timeZone[0]"
   ]
  },
  {
   "cell_type": "code",
   "execution_count": 7,
   "metadata": {},
   "outputs": [
    {
     "name": "stderr",
     "output_type": "stream",
     "text": [
      "/Users/aravind/OneDrive/OneDocuments/Algorithm/DataProjects/IO/env/lib/python3.8/site-packages/pandas/core/arrays/datetimes.py:1088: UserWarning: Converting to PeriodArray/Index representation will drop timezone information.\n",
      "  warnings.warn(\n"
     ]
    },
    {
     "data": {
      "text/html": [
       "<div>\n",
       "<style scoped>\n",
       "    .dataframe tbody tr th:only-of-type {\n",
       "        vertical-align: middle;\n",
       "    }\n",
       "\n",
       "    .dataframe tbody tr th {\n",
       "        vertical-align: top;\n",
       "    }\n",
       "\n",
       "    .dataframe thead th {\n",
       "        text-align: right;\n",
       "    }\n",
       "</style>\n",
       "<table border=\"1\" class=\"dataframe\">\n",
       "  <thead>\n",
       "    <tr style=\"text-align: right;\">\n",
       "      <th></th>\n",
       "      <th>location</th>\n",
       "      <th>timeZone</th>\n",
       "      <th>text</th>\n",
       "    </tr>\n",
       "    <tr>\n",
       "      <th>creationDate</th>\n",
       "      <th></th>\n",
       "      <th></th>\n",
       "      <th></th>\n",
       "    </tr>\n",
       "  </thead>\n",
       "  <tbody>\n",
       "    <tr>\n",
       "      <th>2020-09-06</th>\n",
       "      <td>{'region': {'center': {'longitude': -70.931785...</td>\n",
       "      <td>America/New_York</td>\n",
       "      <td># Headaches after lunch\\nI have been witnessin...</td>\n",
       "    </tr>\n",
       "    <tr>\n",
       "      <th>2020-09-09</th>\n",
       "      <td>{'region': {'center': {'longitude': -70.935523...</td>\n",
       "      <td>America/New_York</td>\n",
       "      <td>ice cream sandwich in the store\\nstore till\\. ...</td>\n",
       "    </tr>\n",
       "    <tr>\n",
       "      <th>2020-09-10</th>\n",
       "      <td>{'region': {'center': {'longitude': -70.935523...</td>\n",
       "      <td>America/New_York</td>\n",
       "      <td>morning \\- little headache \\- seems like sleep...</td>\n",
       "    </tr>\n",
       "    <tr>\n",
       "      <th>2020-09-11</th>\n",
       "      <td>{'region': {'center': {'longitude': -70.935714...</td>\n",
       "      <td>America/New_York</td>\n",
       "      <td>morning \\- clear head with little ache \\- litt...</td>\n",
       "    </tr>\n",
       "    <tr>\n",
       "      <th>2020-09-12</th>\n",
       "      <td>{'region': {'center': {'longitude': -70.931808...</td>\n",
       "      <td>America/New_York</td>\n",
       "      <td>Wake up \\- light headache, empty stomach and g...</td>\n",
       "    </tr>\n",
       "  </tbody>\n",
       "</table>\n",
       "</div>"
      ],
      "text/plain": [
       "                                                       location  \\\n",
       "creationDate                                                      \n",
       "2020-09-06    {'region': {'center': {'longitude': -70.931785...   \n",
       "2020-09-09    {'region': {'center': {'longitude': -70.935523...   \n",
       "2020-09-10    {'region': {'center': {'longitude': -70.935523...   \n",
       "2020-09-11    {'region': {'center': {'longitude': -70.935714...   \n",
       "2020-09-12    {'region': {'center': {'longitude': -70.931808...   \n",
       "\n",
       "                      timeZone  \\\n",
       "creationDate                     \n",
       "2020-09-06    America/New_York   \n",
       "2020-09-09    America/New_York   \n",
       "2020-09-10    America/New_York   \n",
       "2020-09-11    America/New_York   \n",
       "2020-09-12    America/New_York   \n",
       "\n",
       "                                                           text  \n",
       "creationDate                                                     \n",
       "2020-09-06    # Headaches after lunch\\nI have been witnessin...  \n",
       "2020-09-09    ice cream sandwich in the store\\nstore till\\. ...  \n",
       "2020-09-10    morning \\- little headache \\- seems like sleep...  \n",
       "2020-09-11    morning \\- clear head with little ache \\- litt...  \n",
       "2020-09-12    Wake up \\- light headache, empty stomach and g...  "
      ]
     },
     "execution_count": 7,
     "metadata": {},
     "output_type": "execute_result"
    }
   ],
   "source": [
    "eastern = pytz.timezone(df.timeZone[0])\n",
    "df.index = pd.to_datetime(df.creationDate)\n",
    "df.index = df.index.tz_convert(eastern).to_period('d')\n",
    "df.drop('creationDate',axis = 1,inplace = True)\n",
    "df.head()"
   ]
  },
  {
   "cell_type": "code",
   "execution_count": 4,
   "metadata": {},
   "outputs": [
    {
     "data": {
      "text/plain": "           date  minimum  maximum  average  resting  activity  variability  \\\n0  '2020-08-31'       49      109       70       67        97           86   \n1  '2020-09-01'       53      132       71       68        94           44   \n2  '2020-09-02'       61      107       74       71        95           42   \n3  '2020-09-03'       52      106       72       71        93           77   \n4  '2020-09-04'       50      101       72       71        88           49   \n\n   systolic  diastolic bpreadtime  steps  weight  calories    sleep glucose  \\\n0         0          0              6266   58.79    432.20  21600.0           \n1         0          0              6278    0.00    390.18  17700.0           \n2         0          0              4766    0.00    312.14  30300.0           \n3         0          0              4806   60.33    380.61  42300.0           \n4         0          0              4045    0.00    306.36   8100.0           \n\n  glucose_read_time glucose_meal  \n0                                 \n1                                 \n2                                 \n3                                 \n4                                 ",
      "text/html": "<div>\n<style scoped>\n    .dataframe tbody tr th:only-of-type {\n        vertical-align: middle;\n    }\n\n    .dataframe tbody tr th {\n        vertical-align: top;\n    }\n\n    .dataframe thead th {\n        text-align: right;\n    }\n</style>\n<table border=\"1\" class=\"dataframe\">\n  <thead>\n    <tr style=\"text-align: right;\">\n      <th></th>\n      <th>date</th>\n      <th>minimum</th>\n      <th>maximum</th>\n      <th>average</th>\n      <th>resting</th>\n      <th>activity</th>\n      <th>variability</th>\n      <th>systolic</th>\n      <th>diastolic</th>\n      <th>bpreadtime</th>\n      <th>steps</th>\n      <th>weight</th>\n      <th>calories</th>\n      <th>sleep</th>\n      <th>glucose</th>\n      <th>glucose_read_time</th>\n      <th>glucose_meal</th>\n    </tr>\n  </thead>\n  <tbody>\n    <tr>\n      <th>0</th>\n      <td>'2020-08-31'</td>\n      <td>49</td>\n      <td>109</td>\n      <td>70</td>\n      <td>67</td>\n      <td>97</td>\n      <td>86</td>\n      <td>0</td>\n      <td>0</td>\n      <td></td>\n      <td>6266</td>\n      <td>58.79</td>\n      <td>432.20</td>\n      <td>21600.0</td>\n      <td></td>\n      <td></td>\n      <td></td>\n    </tr>\n    <tr>\n      <th>1</th>\n      <td>'2020-09-01'</td>\n      <td>53</td>\n      <td>132</td>\n      <td>71</td>\n      <td>68</td>\n      <td>94</td>\n      <td>44</td>\n      <td>0</td>\n      <td>0</td>\n      <td></td>\n      <td>6278</td>\n      <td>0.00</td>\n      <td>390.18</td>\n      <td>17700.0</td>\n      <td></td>\n      <td></td>\n      <td></td>\n    </tr>\n    <tr>\n      <th>2</th>\n      <td>'2020-09-02'</td>\n      <td>61</td>\n      <td>107</td>\n      <td>74</td>\n      <td>71</td>\n      <td>95</td>\n      <td>42</td>\n      <td>0</td>\n      <td>0</td>\n      <td></td>\n      <td>4766</td>\n      <td>0.00</td>\n      <td>312.14</td>\n      <td>30300.0</td>\n      <td></td>\n      <td></td>\n      <td></td>\n    </tr>\n    <tr>\n      <th>3</th>\n      <td>'2020-09-03'</td>\n      <td>52</td>\n      <td>106</td>\n      <td>72</td>\n      <td>71</td>\n      <td>93</td>\n      <td>77</td>\n      <td>0</td>\n      <td>0</td>\n      <td></td>\n      <td>4806</td>\n      <td>60.33</td>\n      <td>380.61</td>\n      <td>42300.0</td>\n      <td></td>\n      <td></td>\n      <td></td>\n    </tr>\n    <tr>\n      <th>4</th>\n      <td>'2020-09-04'</td>\n      <td>50</td>\n      <td>101</td>\n      <td>72</td>\n      <td>71</td>\n      <td>88</td>\n      <td>49</td>\n      <td>0</td>\n      <td>0</td>\n      <td></td>\n      <td>4045</td>\n      <td>0.00</td>\n      <td>306.36</td>\n      <td>8100.0</td>\n      <td></td>\n      <td></td>\n      <td></td>\n    </tr>\n  </tbody>\n</table>\n</div>"
     },
     "execution_count": 4,
     "metadata": {},
     "output_type": "execute_result"
    }
   ],
   "source": [
    "with open('/Users/aravind/Library/Mobile Documents/com~apple~CloudDocs/Documents/IO/heart-report-2020-08-31-2020-09-30.csv','rb') as f:\n",
    "          df2 = pd.read_csv(f,parse_dates = True)\n",
    "df2.head()"
   ]
  },
  {
   "cell_type": "code",
   "execution_count": 9,
   "metadata": {},
   "outputs": [
    {
     "name": "stderr",
     "output_type": "stream",
     "text": [
      "/Users/aravind/OneDrive/OneDocuments/Algorithm/DataProjects/IO/env/lib/python3.8/site-packages/pandas/core/arrays/datetimes.py:1088: UserWarning: Converting to PeriodArray/Index representation will drop timezone information.\n",
      "  warnings.warn(\n"
     ]
    }
   ],
   "source": [
    "df2.index = pd.to_datetime(df2.date.map(lambda x: x.strip(\"'\")))\n",
    "df2.index = df2.index.tz_localize(pytz.utc).tz_convert(eastern).to_period('d')"
   ]
  },
  {
   "cell_type": "code",
   "execution_count": 10,
   "metadata": {},
   "outputs": [],
   "source": [
    "df = pd.concat([df,df2],axis=1)"
   ]
  },
  {
   "cell_type": "code",
   "execution_count": 3,
   "metadata": {},
   "outputs": [
    {
     "name": "stdout",
     "output_type": "stream",
     "text": [
      "hello\n"
     ]
    }
   ],
   "source": [
    "print('hello')"
   ]
  }
 ],
 "metadata": {
  "kernelspec": {
   "display_name": "Python 3",
   "language": "python",
   "name": "python3"
  },
  "language_info": {
   "codemirror_mode": {
    "name": "ipython",
    "version": 3
   },
   "file_extension": ".py",
   "mimetype": "text/x-python",
   "name": "python",
   "nbconvert_exporter": "python",
   "pygments_lexer": "ipython3",
   "version": "3.8.5"
  }
 },
 "nbformat": 4,
 "nbformat_minor": 4
}